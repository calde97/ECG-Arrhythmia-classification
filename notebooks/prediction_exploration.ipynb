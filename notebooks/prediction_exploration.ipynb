{
 "cells": [
  {
   "cell_type": "code",
   "execution_count": null,
   "metadata": {
    "collapsed": true
   },
   "outputs": [],
   "source": [
    "import pandas as pd\n",
    "import os\n",
    "import joblib\n",
    "import numpy as np\n",
    "\n",
    "# Load model or replace it by your model\n",
    "filename = 'random_good_forest.sav'\n",
    "loaded_model = joblib.load(filename)\n",
    "\n",
    "#load dataset\n",
    "Xtest_test = pd.read_csv(\"../features.csv\")\n",
    "# Delete unamed column\n",
    "Xtest_test = Xtest_test.iloc[:, 1:]\n",
    "\n",
    "# Load number of rpeaks per single file\n",
    "with open('../rpeaks_num.npy', 'rb') as f:\n",
    "    rpeaks_num = np.load(f, allow_pickle=True)\n",
    "\n",
    "# Calculate predictions\n",
    "predictions = loaded_model.predict(Xtest_test)"
   ]
  },
  {
   "cell_type": "code",
   "execution_count": null,
   "outputs": [],
   "source": [
    "i = 0\n",
    "# List. Each values is the number of error in a single ECG recording\n",
    "errors = []\n",
    "# Mask Of True/False to assess if the predictions of lead0 are the same of lead1\n",
    "conditions = []\n",
    "for n_peak in rpeaks_num:\n",
    "    l0_lead_pred = predictions[i:i + n_peak]\n",
    "    l1_lead_pred = predictions[i+n_peak:i+n_peak+n_peak]\n",
    "    # Mask True/False to assess predictions equality on both leads\n",
    "    condition = l0_lead_pred == l1_lead_pred\n",
    "    j = (np.unique(condition, return_counts=True))\n",
    "    errors.append(j[1][0])\n",
    "    # Invert mask since we want to inspect only the wrong predictions\n",
    "    conditions.append(~condition)\n",
    "    single_condition = np.unique(condition)\n",
    "\n",
    "    # All classes equal\n",
    "    if(len(single_condition) != 1):\n",
    "        print(\"ERROR\")"
   ],
   "metadata": {
    "collapsed": false,
    "pycharm": {
     "name": "#%%\n"
    }
   }
  }
 ],
 "metadata": {
  "kernelspec": {
   "display_name": "Python 3",
   "language": "python",
   "name": "python3"
  },
  "language_info": {
   "codemirror_mode": {
    "name": "ipython",
    "version": 2
   },
   "file_extension": ".py",
   "mimetype": "text/x-python",
   "name": "python",
   "nbconvert_exporter": "python",
   "pygments_lexer": "ipython2",
   "version": "2.7.6"
  }
 },
 "nbformat": 4,
 "nbformat_minor": 0
}